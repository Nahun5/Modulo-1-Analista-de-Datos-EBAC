{
 "cells": [
  {
   "cell_type": "markdown",
   "id": "b8be4a4f-33e0-4d7b-b753-b58436917403",
   "metadata": {},
   "source": [
    "# Titulo principal para curso de Python\n",
    "## subtitulo   "
   ]
  },
  {
   "cell_type": "markdown",
   "id": "eee7d20b-f2a2-462c-96e6-addbd121e64e",
   "metadata": {},
   "source": [
    "### Ejemplo de visualización de imagen\n",
    "<img src=\"https://zelda.nintendo.com/tears-of-the-kingdom/_images/features/link-crouching.png\">"
   ]
  },
  {
   "cell_type": "code",
   "execution_count": 4,
   "id": "da9504f0-1772-4003-8011-675432abd300",
   "metadata": {},
   "outputs": [
    {
     "name": "stdout",
     "output_type": "stream",
     "text": [
      "Bienvenidos al curso de Python\n"
     ]
    }
   ],
   "source": [
    "print(\"Bienvenidos al curso de Python\")"
   ]
  },
  {
   "cell_type": "code",
   "execution_count": 5,
   "id": "31b5d28b-3954-41fe-ba47-0a1c92af6b9c",
   "metadata": {},
   "outputs": [
    {
     "data": {
      "text/plain": [
       "'3.13.5 | packaged by Anaconda, Inc. | (main, Jun 12 2025, 16:37:03) [MSC v.1929 64 bit (AMD64)]'"
      ]
     },
     "execution_count": 5,
     "metadata": {},
     "output_type": "execute_result"
    }
   ],
   "source": [
    "import sys\n",
    "sys.version"
   ]
  },
  {
   "cell_type": "code",
   "execution_count": 1,
   "id": "b5a78a11-abd6-41a3-a7cc-17ad139bc8e5",
   "metadata": {},
   "outputs": [],
   "source": [
    "x = 10.5\n",
    "y = 20"
   ]
  },
  {
   "cell_type": "code",
   "execution_count": 2,
   "id": "a3b67f23-2a16-44f8-a0c9-c67123525633",
   "metadata": {},
   "outputs": [
    {
     "name": "stdout",
     "output_type": "stream",
     "text": [
      "10.5\n"
     ]
    }
   ],
   "source": [
    "print(x)"
   ]
  },
  {
   "cell_type": "code",
   "execution_count": 5,
   "id": "0ff7867d-349e-4760-9990-e47189b5fb61",
   "metadata": {},
   "outputs": [
    {
     "name": "stdout",
     "output_type": "stream",
     "text": [
      "el valor de x es 10.5\n"
     ]
    }
   ],
   "source": [
    "print('el valor de x es', x)"
   ]
  },
  {
   "cell_type": "code",
   "execution_count": 6,
   "id": "43395f75-42c7-4ab4-94e4-0f6f8d574836",
   "metadata": {},
   "outputs": [
    {
     "name": "stdout",
     "output_type": "stream",
     "text": [
      "el resultado de z es 30.5\n"
     ]
    }
   ],
   "source": [
    "z = x+y\n",
    "print('el resultado de z es', z)"
   ]
  },
  {
   "cell_type": "code",
   "execution_count": 7,
   "id": "8b24dd37-aaa9-47d6-93a8-98c7d373eefe",
   "metadata": {},
   "outputs": [
    {
     "name": "stdout",
     "output_type": "stream",
     "text": [
      "210.0\n"
     ]
    }
   ],
   "source": [
    "base = 10.5\n",
    "altura = 20\n",
    "Area = base*altura\n",
    "print(Area)"
   ]
  },
  {
   "cell_type": "code",
   "execution_count": null,
   "id": "c9fdd2b9-dd8c-4738-94ae-043e907d624d",
   "metadata": {},
   "outputs": [],
   "source": []
  }
 ],
 "metadata": {
  "kernelspec": {
   "display_name": "Python [conda env:base] *",
   "language": "python",
   "name": "conda-base-py"
  },
  "language_info": {
   "codemirror_mode": {
    "name": "ipython",
    "version": 3
   },
   "file_extension": ".py",
   "mimetype": "text/x-python",
   "name": "python",
   "nbconvert_exporter": "python",
   "pygments_lexer": "ipython3",
   "version": "3.13.5"
  }
 },
 "nbformat": 4,
 "nbformat_minor": 5
}
